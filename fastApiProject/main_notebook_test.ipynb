{
 "cells": [
  {
   "cell_type": "code",
   "execution_count": 57,
   "metadata": {
    "collapsed": true
   },
   "outputs": [
    {
     "name": "stdout",
     "output_type": "stream",
     "text": [
      "{'login': 'madeel.bscs21seecs', 'password': 'Student.123', 'csrf_token': '9792abebf8d9a3f89c717712d34bbdd5bae39df9o1673996427'}\n"
     ]
    },
    {
     "data": {
      "text/plain": "<Response [200]>"
     },
     "execution_count": 57,
     "metadata": {},
     "output_type": "execute_result"
    }
   ],
   "source": [
    "from bs4 import BeautifulSoup\n",
    "import requests\n",
    "\n",
    "url = \"https://qalam.nust.edu.pk/web/login\"\n",
    "session = requests.Session()\n",
    "soap = BeautifulSoup(session.get(url).content, \"html.parser\")\n",
    "__data = {\n",
    "    \"login\": \"madeel.bscs21seecs\",\n",
    "    \"password\": \"Student.123\",\n",
    "    \"csrf_token\": soap.find(\"input\", {\"name\": \"csrf_token\"})[\"value\"]\n",
    "}\n",
    "response = session.post(url, __data)\n",
    "if response.status_code != 200:\n",
    "    exit()"
   ]
  },
  {
   "cell_type": "code",
   "execution_count": null,
   "outputs": [],
   "source": [],
   "metadata": {
    "collapsed": false
   }
  },
  {
   "cell_type": "code",
   "execution_count": 24,
   "outputs": [
    {
     "name": "stdout",
     "output_type": "stream",
     "text": [
      "{'username': 'madeel.bscs21seecs', 'password': 'Student.123', 'csrf_token': '044a009b64f3a038b9f1106fa70f80c91f748564o1673995313'}\n"
     ]
    }
   ],
   "source": [],
   "metadata": {
    "collapsed": false
   }
  },
  {
   "cell_type": "code",
   "execution_count": null,
   "outputs": [],
   "source": [],
   "metadata": {
    "collapsed": false
   }
  }
 ],
 "metadata": {
  "kernelspec": {
   "display_name": "Python 3",
   "language": "python",
   "name": "python3"
  },
  "language_info": {
   "codemirror_mode": {
    "name": "ipython",
    "version": 2
   },
   "file_extension": ".py",
   "mimetype": "text/x-python",
   "name": "python",
   "nbconvert_exporter": "python",
   "pygments_lexer": "ipython2",
   "version": "2.7.6"
  }
 },
 "nbformat": 4,
 "nbformat_minor": 0
}
